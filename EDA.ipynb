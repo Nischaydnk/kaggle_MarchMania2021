{
 "cells": [
  {
   "cell_type": "code",
   "execution_count": 32,
   "metadata": {},
   "outputs": [],
   "source": [
    "# library\n",
    "import os\n",
    "import pandas as pd\n",
    "import numpy as np\n",
    "import matplotlib.pyplot as plt"
   ]
  },
  {
   "cell_type": "code",
   "execution_count": 33,
   "metadata": {},
   "outputs": [],
   "source": [
    "os.listdir('./ncaam-march-mania-2021')\n",
    "stage1 = './ncaam-march-mania-2021/MDataFiles_Stage1/'\n",
    "stage2 = './ncaam-march-mania-2021/MDataFiles_Stage2/'"
   ]
  },
  {
   "cell_type": "code",
   "execution_count": 34,
   "metadata": {},
   "outputs": [
    {
     "output_type": "execute_result",
     "data": {
      "text/plain": [
       "        Season  DayNum  WTeamID  WScore  LTeamID  LScore WLoc  NumOT\n",
       "0         1985      20     1228      81     1328      64    N      0\n",
       "1         1985      25     1106      77     1354      70    H      0\n",
       "2         1985      25     1112      63     1223      56    H      0\n",
       "3         1985      25     1165      70     1432      54    H      0\n",
       "4         1985      25     1192      86     1447      74    H      0\n",
       "...        ...     ...      ...     ...      ...     ...  ...    ...\n",
       "170730    2021     132     1382      74     1433      65    N      0\n",
       "170731    2021     132     1159      85     1259      72    H      0\n",
       "170732    2021     132     1104      80     1261      79    N      0\n",
       "170733    2021     132     1222      91     1153      54    N      0\n",
       "170734    2021     132     1228      91     1326      88    N      1\n",
       "\n",
       "[170735 rows x 8 columns]"
      ],
      "text/html": "<div>\n<style scoped>\n    .dataframe tbody tr th:only-of-type {\n        vertical-align: middle;\n    }\n\n    .dataframe tbody tr th {\n        vertical-align: top;\n    }\n\n    .dataframe thead th {\n        text-align: right;\n    }\n</style>\n<table border=\"1\" class=\"dataframe\">\n  <thead>\n    <tr style=\"text-align: right;\">\n      <th></th>\n      <th>Season</th>\n      <th>DayNum</th>\n      <th>WTeamID</th>\n      <th>WScore</th>\n      <th>LTeamID</th>\n      <th>LScore</th>\n      <th>WLoc</th>\n      <th>NumOT</th>\n    </tr>\n  </thead>\n  <tbody>\n    <tr>\n      <th>0</th>\n      <td>1985</td>\n      <td>20</td>\n      <td>1228</td>\n      <td>81</td>\n      <td>1328</td>\n      <td>64</td>\n      <td>N</td>\n      <td>0</td>\n    </tr>\n    <tr>\n      <th>1</th>\n      <td>1985</td>\n      <td>25</td>\n      <td>1106</td>\n      <td>77</td>\n      <td>1354</td>\n      <td>70</td>\n      <td>H</td>\n      <td>0</td>\n    </tr>\n    <tr>\n      <th>2</th>\n      <td>1985</td>\n      <td>25</td>\n      <td>1112</td>\n      <td>63</td>\n      <td>1223</td>\n      <td>56</td>\n      <td>H</td>\n      <td>0</td>\n    </tr>\n    <tr>\n      <th>3</th>\n      <td>1985</td>\n      <td>25</td>\n      <td>1165</td>\n      <td>70</td>\n      <td>1432</td>\n      <td>54</td>\n      <td>H</td>\n      <td>0</td>\n    </tr>\n    <tr>\n      <th>4</th>\n      <td>1985</td>\n      <td>25</td>\n      <td>1192</td>\n      <td>86</td>\n      <td>1447</td>\n      <td>74</td>\n      <td>H</td>\n      <td>0</td>\n    </tr>\n    <tr>\n      <th>...</th>\n      <td>...</td>\n      <td>...</td>\n      <td>...</td>\n      <td>...</td>\n      <td>...</td>\n      <td>...</td>\n      <td>...</td>\n      <td>...</td>\n    </tr>\n    <tr>\n      <th>170730</th>\n      <td>2021</td>\n      <td>132</td>\n      <td>1382</td>\n      <td>74</td>\n      <td>1433</td>\n      <td>65</td>\n      <td>N</td>\n      <td>0</td>\n    </tr>\n    <tr>\n      <th>170731</th>\n      <td>2021</td>\n      <td>132</td>\n      <td>1159</td>\n      <td>85</td>\n      <td>1259</td>\n      <td>72</td>\n      <td>H</td>\n      <td>0</td>\n    </tr>\n    <tr>\n      <th>170732</th>\n      <td>2021</td>\n      <td>132</td>\n      <td>1104</td>\n      <td>80</td>\n      <td>1261</td>\n      <td>79</td>\n      <td>N</td>\n      <td>0</td>\n    </tr>\n    <tr>\n      <th>170733</th>\n      <td>2021</td>\n      <td>132</td>\n      <td>1222</td>\n      <td>91</td>\n      <td>1153</td>\n      <td>54</td>\n      <td>N</td>\n      <td>0</td>\n    </tr>\n    <tr>\n      <th>170734</th>\n      <td>2021</td>\n      <td>132</td>\n      <td>1228</td>\n      <td>91</td>\n      <td>1326</td>\n      <td>88</td>\n      <td>N</td>\n      <td>1</td>\n    </tr>\n  </tbody>\n</table>\n<p>170735 rows × 8 columns</p>\n</div>"
     },
     "metadata": {},
     "execution_count": 34
    }
   ],
   "source": [
    "season = pd.read_csv(stage2+'MRegularSeasonCompactResults.csv')\n",
    "season"
   ]
  },
  {
   "cell_type": "code",
   "execution_count": 35,
   "metadata": {},
   "outputs": [
    {
     "output_type": "execute_result",
     "data": {
      "text/plain": [
       "      Season  DayNum  WTeamID  WScore  LTeamID  LScore WLoc  NumOT\n",
       "0       1985     136     1116      63     1234      54    N      0\n",
       "1       1985     136     1120      59     1345      58    N      0\n",
       "2       1985     136     1207      68     1250      43    N      0\n",
       "3       1985     136     1229      58     1425      55    N      0\n",
       "4       1985     136     1242      49     1325      38    N      0\n",
       "...      ...     ...      ...     ...      ...     ...  ...    ...\n",
       "2246    2019     146     1120      77     1246      71    N      1\n",
       "2247    2019     146     1277      68     1181      67    N      0\n",
       "2248    2019     152     1403      61     1277      51    N      0\n",
       "2249    2019     152     1438      63     1120      62    N      0\n",
       "2250    2019     154     1438      85     1403      77    N      1\n",
       "\n",
       "[2251 rows x 8 columns]"
      ],
      "text/html": "<div>\n<style scoped>\n    .dataframe tbody tr th:only-of-type {\n        vertical-align: middle;\n    }\n\n    .dataframe tbody tr th {\n        vertical-align: top;\n    }\n\n    .dataframe thead th {\n        text-align: right;\n    }\n</style>\n<table border=\"1\" class=\"dataframe\">\n  <thead>\n    <tr style=\"text-align: right;\">\n      <th></th>\n      <th>Season</th>\n      <th>DayNum</th>\n      <th>WTeamID</th>\n      <th>WScore</th>\n      <th>LTeamID</th>\n      <th>LScore</th>\n      <th>WLoc</th>\n      <th>NumOT</th>\n    </tr>\n  </thead>\n  <tbody>\n    <tr>\n      <th>0</th>\n      <td>1985</td>\n      <td>136</td>\n      <td>1116</td>\n      <td>63</td>\n      <td>1234</td>\n      <td>54</td>\n      <td>N</td>\n      <td>0</td>\n    </tr>\n    <tr>\n      <th>1</th>\n      <td>1985</td>\n      <td>136</td>\n      <td>1120</td>\n      <td>59</td>\n      <td>1345</td>\n      <td>58</td>\n      <td>N</td>\n      <td>0</td>\n    </tr>\n    <tr>\n      <th>2</th>\n      <td>1985</td>\n      <td>136</td>\n      <td>1207</td>\n      <td>68</td>\n      <td>1250</td>\n      <td>43</td>\n      <td>N</td>\n      <td>0</td>\n    </tr>\n    <tr>\n      <th>3</th>\n      <td>1985</td>\n      <td>136</td>\n      <td>1229</td>\n      <td>58</td>\n      <td>1425</td>\n      <td>55</td>\n      <td>N</td>\n      <td>0</td>\n    </tr>\n    <tr>\n      <th>4</th>\n      <td>1985</td>\n      <td>136</td>\n      <td>1242</td>\n      <td>49</td>\n      <td>1325</td>\n      <td>38</td>\n      <td>N</td>\n      <td>0</td>\n    </tr>\n    <tr>\n      <th>...</th>\n      <td>...</td>\n      <td>...</td>\n      <td>...</td>\n      <td>...</td>\n      <td>...</td>\n      <td>...</td>\n      <td>...</td>\n      <td>...</td>\n    </tr>\n    <tr>\n      <th>2246</th>\n      <td>2019</td>\n      <td>146</td>\n      <td>1120</td>\n      <td>77</td>\n      <td>1246</td>\n      <td>71</td>\n      <td>N</td>\n      <td>1</td>\n    </tr>\n    <tr>\n      <th>2247</th>\n      <td>2019</td>\n      <td>146</td>\n      <td>1277</td>\n      <td>68</td>\n      <td>1181</td>\n      <td>67</td>\n      <td>N</td>\n      <td>0</td>\n    </tr>\n    <tr>\n      <th>2248</th>\n      <td>2019</td>\n      <td>152</td>\n      <td>1403</td>\n      <td>61</td>\n      <td>1277</td>\n      <td>51</td>\n      <td>N</td>\n      <td>0</td>\n    </tr>\n    <tr>\n      <th>2249</th>\n      <td>2019</td>\n      <td>152</td>\n      <td>1438</td>\n      <td>63</td>\n      <td>1120</td>\n      <td>62</td>\n      <td>N</td>\n      <td>0</td>\n    </tr>\n    <tr>\n      <th>2250</th>\n      <td>2019</td>\n      <td>154</td>\n      <td>1438</td>\n      <td>85</td>\n      <td>1403</td>\n      <td>77</td>\n      <td>N</td>\n      <td>1</td>\n    </tr>\n  </tbody>\n</table>\n<p>2251 rows × 8 columns</p>\n</div>"
     },
     "metadata": {},
     "execution_count": 35
    }
   ],
   "source": [
    "tourney = pd.read_csv(stage2+'MNCAATourneyCompactResults.csv')\n",
    "tourney"
   ]
  },
  {
   "cell_type": "code",
   "execution_count": 36,
   "metadata": {},
   "outputs": [
    {
     "output_type": "execute_result",
     "data": {
      "text/plain": [
       "         Season  DayNum SystemName  TeamID  OrdinalRank\n",
       "0          2003      35        SEL    1102          159\n",
       "1          2003      35        SEL    1103          229\n",
       "2          2003      35        SEL    1104           12\n",
       "3          2003      35        SEL    1105          314\n",
       "4          2003      35        SEL    1106          260\n",
       "...         ...     ...        ...     ...          ...\n",
       "4339985    2021     133        WOB    1467          233\n",
       "4339986    2021     133        WOB    1468          176\n",
       "4339987    2021     133        WOB    1469          290\n",
       "4339988    2021     133        WOB    1470          256\n",
       "4339989    2021     133        WOB    1471          234\n",
       "\n",
       "[4339990 rows x 5 columns]"
      ],
      "text/html": "<div>\n<style scoped>\n    .dataframe tbody tr th:only-of-type {\n        vertical-align: middle;\n    }\n\n    .dataframe tbody tr th {\n        vertical-align: top;\n    }\n\n    .dataframe thead th {\n        text-align: right;\n    }\n</style>\n<table border=\"1\" class=\"dataframe\">\n  <thead>\n    <tr style=\"text-align: right;\">\n      <th></th>\n      <th>Season</th>\n      <th>DayNum</th>\n      <th>SystemName</th>\n      <th>TeamID</th>\n      <th>OrdinalRank</th>\n    </tr>\n  </thead>\n  <tbody>\n    <tr>\n      <th>0</th>\n      <td>2003</td>\n      <td>35</td>\n      <td>SEL</td>\n      <td>1102</td>\n      <td>159</td>\n    </tr>\n    <tr>\n      <th>1</th>\n      <td>2003</td>\n      <td>35</td>\n      <td>SEL</td>\n      <td>1103</td>\n      <td>229</td>\n    </tr>\n    <tr>\n      <th>2</th>\n      <td>2003</td>\n      <td>35</td>\n      <td>SEL</td>\n      <td>1104</td>\n      <td>12</td>\n    </tr>\n    <tr>\n      <th>3</th>\n      <td>2003</td>\n      <td>35</td>\n      <td>SEL</td>\n      <td>1105</td>\n      <td>314</td>\n    </tr>\n    <tr>\n      <th>4</th>\n      <td>2003</td>\n      <td>35</td>\n      <td>SEL</td>\n      <td>1106</td>\n      <td>260</td>\n    </tr>\n    <tr>\n      <th>...</th>\n      <td>...</td>\n      <td>...</td>\n      <td>...</td>\n      <td>...</td>\n      <td>...</td>\n    </tr>\n    <tr>\n      <th>4339985</th>\n      <td>2021</td>\n      <td>133</td>\n      <td>WOB</td>\n      <td>1467</td>\n      <td>233</td>\n    </tr>\n    <tr>\n      <th>4339986</th>\n      <td>2021</td>\n      <td>133</td>\n      <td>WOB</td>\n      <td>1468</td>\n      <td>176</td>\n    </tr>\n    <tr>\n      <th>4339987</th>\n      <td>2021</td>\n      <td>133</td>\n      <td>WOB</td>\n      <td>1469</td>\n      <td>290</td>\n    </tr>\n    <tr>\n      <th>4339988</th>\n      <td>2021</td>\n      <td>133</td>\n      <td>WOB</td>\n      <td>1470</td>\n      <td>256</td>\n    </tr>\n    <tr>\n      <th>4339989</th>\n      <td>2021</td>\n      <td>133</td>\n      <td>WOB</td>\n      <td>1471</td>\n      <td>234</td>\n    </tr>\n  </tbody>\n</table>\n<p>4339990 rows × 5 columns</p>\n</div>"
     },
     "metadata": {},
     "execution_count": 36
    }
   ],
   "source": [
    "ordinals = pd.read_csv(stage2+'MMasseyOrdinals.csv').rename(columns={'RankingDayNum':'DayNum'})\n",
    "ordinals"
   ]
  },
  {
   "cell_type": "code",
   "execution_count": 37,
   "metadata": {},
   "outputs": [
    {
     "output_type": "execute_result",
     "data": {
      "text/plain": [
       "       SystemName  Season  TeamID  DayNum  OrdinalRank\n",
       "0             7OT    2012    1102     133          146\n",
       "1             7OT    2012    1103     133           80\n",
       "2             7OT    2012    1104     133           35\n",
       "3             7OT    2012    1105     133          338\n",
       "4             7OT    2012    1106     133          300\n",
       "...           ...     ...     ...     ...          ...\n",
       "349598        ZAM    2019    1462     133           70\n",
       "349599        ZAM    2019    1463     133           87\n",
       "349600        ZAM    2019    1464     133          242\n",
       "349601        ZAM    2019    1465     133          198\n",
       "349602        ZAM    2019    1466     133          290\n",
       "\n",
       "[349603 rows x 5 columns]"
      ],
      "text/html": "<div>\n<style scoped>\n    .dataframe tbody tr th:only-of-type {\n        vertical-align: middle;\n    }\n\n    .dataframe tbody tr th {\n        vertical-align: top;\n    }\n\n    .dataframe thead th {\n        text-align: right;\n    }\n</style>\n<table border=\"1\" class=\"dataframe\">\n  <thead>\n    <tr style=\"text-align: right;\">\n      <th></th>\n      <th>SystemName</th>\n      <th>Season</th>\n      <th>TeamID</th>\n      <th>DayNum</th>\n      <th>OrdinalRank</th>\n    </tr>\n  </thead>\n  <tbody>\n    <tr>\n      <th>0</th>\n      <td>7OT</td>\n      <td>2012</td>\n      <td>1102</td>\n      <td>133</td>\n      <td>146</td>\n    </tr>\n    <tr>\n      <th>1</th>\n      <td>7OT</td>\n      <td>2012</td>\n      <td>1103</td>\n      <td>133</td>\n      <td>80</td>\n    </tr>\n    <tr>\n      <th>2</th>\n      <td>7OT</td>\n      <td>2012</td>\n      <td>1104</td>\n      <td>133</td>\n      <td>35</td>\n    </tr>\n    <tr>\n      <th>3</th>\n      <td>7OT</td>\n      <td>2012</td>\n      <td>1105</td>\n      <td>133</td>\n      <td>338</td>\n    </tr>\n    <tr>\n      <th>4</th>\n      <td>7OT</td>\n      <td>2012</td>\n      <td>1106</td>\n      <td>133</td>\n      <td>300</td>\n    </tr>\n    <tr>\n      <th>...</th>\n      <td>...</td>\n      <td>...</td>\n      <td>...</td>\n      <td>...</td>\n      <td>...</td>\n    </tr>\n    <tr>\n      <th>349598</th>\n      <td>ZAM</td>\n      <td>2019</td>\n      <td>1462</td>\n      <td>133</td>\n      <td>70</td>\n    </tr>\n    <tr>\n      <th>349599</th>\n      <td>ZAM</td>\n      <td>2019</td>\n      <td>1463</td>\n      <td>133</td>\n      <td>87</td>\n    </tr>\n    <tr>\n      <th>349600</th>\n      <td>ZAM</td>\n      <td>2019</td>\n      <td>1464</td>\n      <td>133</td>\n      <td>242</td>\n    </tr>\n    <tr>\n      <th>349601</th>\n      <td>ZAM</td>\n      <td>2019</td>\n      <td>1465</td>\n      <td>133</td>\n      <td>198</td>\n    </tr>\n    <tr>\n      <th>349602</th>\n      <td>ZAM</td>\n      <td>2019</td>\n      <td>1466</td>\n      <td>133</td>\n      <td>290</td>\n    </tr>\n  </tbody>\n</table>\n<p>349603 rows × 5 columns</p>\n</div>"
     },
     "metadata": {},
     "execution_count": 37
    }
   ],
   "source": [
    "# Get the last available data from each system previous to the tournament\n",
    "ordinals = ordinals.groupby(['SystemName','Season','TeamID']).last().reset_index()\n",
    "ordinals"
   ]
  },
  {
   "cell_type": "code",
   "execution_count": 38,
   "metadata": {},
   "outputs": [],
   "source": [
    "# Add winner's ordinals\n",
    "games = tourney.merge(ordinals,left_on=['Season','WTeamID'],right_on=['Season','TeamID'])"
   ]
  },
  {
   "cell_type": "code",
   "execution_count": 39,
   "metadata": {},
   "outputs": [],
   "source": [
    "# Then add losser's ordinals\n",
    "games = games.merge(ordinals,\n",
    "left_on=['Season','LTeamID','SystemName'],right_on=['Season','TeamID','SystemName'],suffixes = ['W','L'])"
   ]
  },
  {
   "cell_type": "code",
   "execution_count": 40,
   "metadata": {},
   "outputs": [
    {
     "output_type": "execute_result",
     "data": {
      "text/plain": [
       "           prediction      \n",
       "                 mean count\n",
       "SystemName                 \n",
       "7OT          0.701493   536\n",
       "ACU          0.729508   244\n",
       "ADE          0.686567   335\n",
       "AP           0.618367   490\n",
       "ARG          0.702174   460\n",
       "...               ...   ...\n",
       "WOB          0.703140  1051\n",
       "WOL          0.706726  1115\n",
       "WTE          0.640625    64\n",
       "YAG          0.716418   201\n",
       "ZAM          0.706468   201\n",
       "\n",
       "[174 rows x 2 columns]"
      ],
      "text/html": "<div>\n<style scoped>\n    .dataframe tbody tr th:only-of-type {\n        vertical-align: middle;\n    }\n\n    .dataframe tbody tr th {\n        vertical-align: top;\n    }\n\n    .dataframe thead tr th {\n        text-align: left;\n    }\n\n    .dataframe thead tr:last-of-type th {\n        text-align: right;\n    }\n</style>\n<table border=\"1\" class=\"dataframe\">\n  <thead>\n    <tr>\n      <th></th>\n      <th colspan=\"2\" halign=\"left\">prediction</th>\n    </tr>\n    <tr>\n      <th></th>\n      <th>mean</th>\n      <th>count</th>\n    </tr>\n    <tr>\n      <th>SystemName</th>\n      <th></th>\n      <th></th>\n    </tr>\n  </thead>\n  <tbody>\n    <tr>\n      <th>7OT</th>\n      <td>0.701493</td>\n      <td>536</td>\n    </tr>\n    <tr>\n      <th>ACU</th>\n      <td>0.729508</td>\n      <td>244</td>\n    </tr>\n    <tr>\n      <th>ADE</th>\n      <td>0.686567</td>\n      <td>335</td>\n    </tr>\n    <tr>\n      <th>AP</th>\n      <td>0.618367</td>\n      <td>490</td>\n    </tr>\n    <tr>\n      <th>ARG</th>\n      <td>0.702174</td>\n      <td>460</td>\n    </tr>\n    <tr>\n      <th>...</th>\n      <td>...</td>\n      <td>...</td>\n    </tr>\n    <tr>\n      <th>WOB</th>\n      <td>0.703140</td>\n      <td>1051</td>\n    </tr>\n    <tr>\n      <th>WOL</th>\n      <td>0.706726</td>\n      <td>1115</td>\n    </tr>\n    <tr>\n      <th>WTE</th>\n      <td>0.640625</td>\n      <td>64</td>\n    </tr>\n    <tr>\n      <th>YAG</th>\n      <td>0.716418</td>\n      <td>201</td>\n    </tr>\n    <tr>\n      <th>ZAM</th>\n      <td>0.706468</td>\n      <td>201</td>\n    </tr>\n  </tbody>\n</table>\n<p>174 rows × 2 columns</p>\n</div>"
     },
     "metadata": {},
     "execution_count": 40
    }
   ],
   "source": [
    "## Add column with 1 if result is correct\n",
    "games = games.drop(labels=['TeamIDW','TeamIDL'],axis=1)\n",
    "games['prediction'] = (games.OrdinalRankW<games.OrdinalRankL).astype(int)\n",
    "results_by_system = games.groupby('SystemName').agg({'prediction':('mean','count')})\n",
    "results_by_system"
   ]
  },
  {
   "cell_type": "code",
   "execution_count": 41,
   "metadata": {},
   "outputs": [],
   "source": [
    "games['Wrating'] = 100-4*np.log(games['OrdinalRankW']+1)-games['OrdinalRankW']/22"
   ]
  },
  {
   "cell_type": "code",
   "execution_count": 42,
   "metadata": {},
   "outputs": [],
   "source": [
    "games['Lrating'] = 100-4*np.log(games['OrdinalRankL']+1)-games['OrdinalRankL']/22"
   ]
  },
  {
   "cell_type": "code",
   "execution_count": 43,
   "metadata": {},
   "outputs": [],
   "source": [
    "games['prob'] = 1/(1+10**((games['Lrating']-games['Wrating'])/15))"
   ]
  },
  {
   "cell_type": "code",
   "execution_count": 44,
   "metadata": {},
   "outputs": [],
   "source": [
    "loss_results = games[games.Season>=2016].groupby('SystemName')['prob'].agg([('loss',lambda p: -np.mean(np.log(p))),('count','count')])"
   ]
  },
  {
   "cell_type": "code",
   "execution_count": 45,
   "metadata": {},
   "outputs": [],
   "source": [
    "ref_system = 'POM'\n",
    "ordinals['Rating']= 100-4*np.log(ordinals['OrdinalRank']+1)-ordinals['OrdinalRank']/22\n",
    "ordinals = ordinals[ordinals.SystemName==ref_system]"
   ]
  },
  {
   "cell_type": "code",
   "execution_count": 46,
   "metadata": {},
   "outputs": [],
   "source": [
    "# Get submission file\n",
    "sub_df = pd.read_csv(stage2+'MSampleSubmissionStage2.csv')\n",
    "sub_df['Season'] = sub_df['ID'].map(lambda x: int(x.split('_')[0]))\n",
    "sub_df['Team1'] = sub_df['ID'].map(lambda x: int(x.split('_')[1]))\n",
    "sub_df['Team2'] = sub_df['ID'].map(lambda x: int(x.split('_')[2]))\n",
    "sub_df = sub_df.merge(ordinals[['Season','TeamID','Rating']], how='left', left_on = ['Season','Team1'], right_on = ['Season','TeamID'])\n",
    "sub_df = sub_df.merge(ordinals[['Season','TeamID','Rating']], how='left', left_on = ['Season','Team2'], right_on = ['Season','TeamID'], suffixes=['W','L'])\n",
    "sub_df['Pred'] = 1/(1+10**((sub_df['RatingL']-sub_df['RatingW'])/15))\n",
    "sub_df[['ID', 'Pred']].to_csv('submission.csv', index=False, float_format='%.5g')"
   ]
  },
  {
   "cell_type": "code",
   "execution_count": null,
   "metadata": {},
   "outputs": [],
   "source": []
  }
 ],
 "metadata": {
  "kernelspec": {
   "name": "python3",
   "display_name": "Python 3.8.2 64-bit",
   "metadata": {
    "interpreter": {
     "hash": "fec52da50850cce5fc26e5147b62b7f45c124b1cd39df3dda3ea1659ba1f191a"
    }
   }
  },
  "language_info": {
   "codemirror_mode": {
    "name": "ipython",
    "version": 3
   },
   "file_extension": ".py",
   "mimetype": "text/x-python",
   "name": "python",
   "nbconvert_exporter": "python",
   "pygments_lexer": "ipython3",
   "version": "3.8.2-final"
  },
  "toc": {
   "base_numbering": 1,
   "nav_menu": {},
   "number_sections": true,
   "sideBar": true,
   "skip_h1_title": false,
   "title_cell": "Table of Contents",
   "title_sidebar": "Contents",
   "toc_cell": false,
   "toc_position": {},
   "toc_section_display": true,
   "toc_window_display": false
  }
 },
 "nbformat": 4,
 "nbformat_minor": 4
}